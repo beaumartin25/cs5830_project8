{
 "cells": [
  {
   "cell_type": "markdown",
   "metadata": {},
   "source": [
    "# Project 8"
   ]
  },
  {
   "cell_type": "code",
   "execution_count": null,
   "metadata": {},
   "outputs": [],
   "source": [
    "import pandas as pd\n",
    "from sklearn.metrics import precision_recall_fscore_support\n",
    "from sklearn.tree import DecisionTreeClassifier\n",
    "from sklearn.model_selection import train_test_split\n",
    "from sklearn import tree\n",
    "import seaborn as sns\n",
    "import matplotlib.pyplot as plt\n",
    "from IPython.display import SVG\n",
    "# You may need to install the Python graphviz library. At the command line:\n",
    "#   pip install graphviz\n",
    "# You will also need to install the graphviz executables. You can use apt,\n",
    "# macports, or other installer for your system.\n",
    "from graphviz import Source\n"
   ]
  },
  {
   "cell_type": "code",
   "execution_count": null,
   "metadata": {},
   "outputs": [],
   "source": [
    "df = pd.read_csv(\"data/agaricus-lepiota.csv\")\n",
    "df['poisonous'] = df.poisonous.map({'e':0, 'p':1})\n",
    "df"
   ]
  },
  {
   "cell_type": "markdown",
   "metadata": {},
   "source": [
    "## Pick characteristics more correlated with poiseness mushrooms via research\n",
    "https://environment.co/how-to-identify-poisonous-mushrooms/\n",
    "\n",
    "Reasearch says \n",
    "- bulbous growth at the base of a mushroom stem\n",
    "- White gills\n",
    "- Red on cap or stem\n",
    "- Strange odor"
   ]
  },
  {
   "cell_type": "markdown",
   "metadata": {},
   "source": [
    "### Find most correlated odors with poisonous mushrooms"
   ]
  },
  {
   "cell_type": "code",
   "execution_count": null,
   "metadata": {},
   "outputs": [],
   "source": [
    "\n",
    "\n",
    "df_odors = pd.get_dummies(df['odor'], prefix='odor', drop_first=True)\n",
    "df = pd.concat([df, df_odors], axis=1)\n",
    "related = df_odors.columns.tolist()\n",
    "X = df[related]\n",
    "y = df['poisonous']\n",
    "\n",
    "\n",
    "df_corr = pd.concat([X, y], axis=1)  # Combine features and target for correlation\n",
    "correlation_matrix = df_corr.corr()\n",
    "\n",
    "\n",
    "plt.figure(figsize=(12, 10))\n",
    "sns.heatmap(correlation_matrix, annot=True, cmap='coolwarm', fmt=\".2f\", linewidths=0.5)\n",
    "plt.title('Correlation Matrix of Mushroom Features')\n",
    "plt.show()\n"
   ]
  },
  {
   "cell_type": "markdown",
   "metadata": {},
   "source": [
    "### Create new feature for any red color"
   ]
  },
  {
   "cell_type": "code",
   "execution_count": null,
   "metadata": {},
   "outputs": [],
   "source": [
    "red_related_columns = ['cap-color', 'gill-color', 'stalk-color-above-ring', 'stalk-color-below-ring']\n",
    "\n",
    "df['contains-red'] = df[red_related_columns].apply(lambda row: 'e' in row.values, axis=1)\n",
    "\n",
    "df[df['contains-red'] == True]"
   ]
  },
  {
   "cell_type": "markdown",
   "metadata": {},
   "source": [
    "### Create new fields for gill-color is white and bulbous stem type"
   ]
  },
  {
   "cell_type": "code",
   "execution_count": null,
   "metadata": {},
   "outputs": [],
   "source": [
    "df['gill-white'] = df['gill-color'] == 'w'\n",
    "#df['skirt-ring'] = df['ring-type'].isin(['p', 'f'])\n",
    "df['bulbous-stem'] = df['stalk-root'].isin(['b', 'u'])\n",
    "df"
   ]
  },
  {
   "cell_type": "markdown",
   "metadata": {},
   "source": [
    "## Create decision tree"
   ]
  },
  {
   "cell_type": "code",
   "execution_count": null,
   "metadata": {},
   "outputs": [],
   "source": [
    "\n",
    "feature_cols = ['odor_f','odor_n','contains-red','gill-white','bulbous-stem']\n",
    "\n",
    "# define X and y\n",
    "X = df[feature_cols]\n",
    "y = df['poisonous']\n",
    "\n",
    "# fit a classification tree with max_depth=3 on all data\n",
    "\n",
    "treeclf = DecisionTreeClassifier(max_depth=3, random_state=1)\n",
    "treeclf.fit(X, y)\n",
    "\n",
    "graph = Source(tree.export_graphviz(treeclf, out_file=None,\n",
    "                                    feature_names=feature_cols,\n",
    "                                    class_names=['0', '1'], filled = True))\n",
    "display(SVG(graph.pipe(format='svg')))"
   ]
  },
  {
   "cell_type": "markdown",
   "metadata": {},
   "source": [
    "### Test Tree"
   ]
  },
  {
   "cell_type": "code",
   "execution_count": null,
   "metadata": {},
   "outputs": [],
   "source": [
    "\n",
    "X_train, X_test, y_train, y_test = train_test_split(X, y, test_size=0.2, random_state=42)\n",
    "\n",
    "treeclf = DecisionTreeClassifier(max_depth=3, random_state=1)\n",
    "treeclf.fit(X_train, y_train)\n",
    "y_pred = treeclf.predict(X_test)\n",
    "\n",
    "precision, recall, fscore, _ = precision_recall_fscore_support(y_test, y_pred, average=None)\n",
    "\n",
    "print(f\"Precision (Poisonous): {precision[1]:.2f}, Precision (Non-Poisonous): {precision[0]:.2f}\")\n",
    "print(f\"Recall (Poisonous): {recall[1]:.2f}, Recall (Non-Poisonous): {recall[0]:.2f}\")\n",
    "print(f\"F1 Score (Poisonous): {fscore[1]:.2f}, F1 Score (Non-Poisonous): {fscore[0]:.2f}\")\n"
   ]
  }
 ],
 "metadata": {
  "kernelspec": {
   "display_name": "Python 3",
   "language": "python",
   "name": "python3"
  },
  "language_info": {
   "codemirror_mode": {
    "name": "ipython",
    "version": 3
   },
   "file_extension": ".py",
   "mimetype": "text/x-python",
   "name": "python",
   "nbconvert_exporter": "python",
   "pygments_lexer": "ipython3",
   "version": "3.12.0"
  }
 },
 "nbformat": 4,
 "nbformat_minor": 2
}
